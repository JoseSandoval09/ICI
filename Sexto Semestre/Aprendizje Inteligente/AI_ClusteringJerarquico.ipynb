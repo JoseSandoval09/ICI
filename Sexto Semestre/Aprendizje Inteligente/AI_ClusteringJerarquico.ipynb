{
 "cells": [
  {
   "cell_type": "markdown",
   "metadata": {},
   "source": [
    "## Portada\n"
   ]
  },
  {
   "cell_type": "markdown",
   "metadata": {},
   "source": [
    "### Clustering: Clasificacion no supervisada, aprendizaje "
   ]
  },
  {
   "cell_type": "markdown",
   "metadata": {},
   "source": [
    "## Metodo Clustering Jerarquico\n",
    "### Suele representarse a traves de un dendograma, que muestra en que orden se han unido los cluster y cual es el grado de proximidad que tienen los clusters que se unen\n"
   ]
  },
  {
   "cell_type": "code",
   "execution_count": 3,
   "metadata": {},
   "outputs": [],
   "source": [
    "import os\n",
    "import pandas as pd\n",
    "import numpy as np\n",
    "from sklearn.datasets import make_blobs\n",
    "import matplotlib.pyplot as plt\n",
    "\n",
    "# Import the dendogram function and the word, single , complete, average\n",
    "from scipy.cluster.hierarchy import dendrogram, ward , single, complete,average,linkage, fcluster\n",
    "from scipy.spatial.distance import pdist\n"
   ]
  },
  {
   "cell_type": "code",
   "execution_count": null,
   "metadata": {},
   "outputs": [],
   "source": [
    "## Funcion para calcular los centroides de cada closter\n",
    "def centroide(num_cluster,data,cluster):\n",
    "    ind=cluster==num_cluster\n",
    "    return (pd.DataFrame(data[ind].mean()).T)"
   ]
  },
  {
   "cell_type": "code",
   "execution_count": null,
   "metadata": {},
   "outputs": [],
   "source": [
    "## Funcion para gradicar los graficos de barra para la interpretacion de los clusters\n",
    "def bar_plot(centros, labels, cluster=None,var=None):\n",
    "    from math import ceil, floor\n",
    "    from seaborn import color_palette\n",
    "    colors=color_palette()\n",
    "    minimo=floor(centros.min().min()) if floor(centros.min().min())<0 else 0\n",
    "\n",
    "    \n",
    "    "
   ]
  }
 ],
 "metadata": {
  "kernelspec": {
   "display_name": "Python 3",
   "language": "python",
   "name": "python3"
  },
  "language_info": {
   "codemirror_mode": {
    "name": "ipython",
    "version": 3
   },
   "file_extension": ".py",
   "mimetype": "text/x-python",
   "name": "python",
   "nbconvert_exporter": "python",
   "pygments_lexer": "ipython3",
   "version": "3.12.1"
  }
 },
 "nbformat": 4,
 "nbformat_minor": 2
}
