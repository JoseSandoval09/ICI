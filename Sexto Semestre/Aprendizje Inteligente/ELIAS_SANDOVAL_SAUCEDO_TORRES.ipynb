{
 "cells": [
  {
   "cell_type": "markdown",
   "metadata": {},
   "source": [
    "## UNIVERSIDAD AUTONOMA DE AGUASCALIENTES\n",
    "## DEPARTAMENTO DE CIENCIAS DE LA COMPUTACION\n",
    "## CURSO: APRENDIZAJE INTELIGENTE\n",
    "## MAESTRO: FRANCISCO JAVIER\n",
    "## ALUMNO: JOSE LUIS SANDOVAL PEREZ\n",
    "## SEMESTRE: ENERO-JUNIO\n",
    "## CLASIFICADOR PELICULAS\n"
   ]
  },
  {
   "cell_type": "code",
   "execution_count": null,
   "metadata": {},
   "outputs": [],
   "source": [
    "## Importamos data set\n",
    "import pandas as pd\n",
    "df=pd.read_csv(\"movie_data.csv\")\n",
    "df.head(10) # se muestran las primeras 10 filas"
   ]
  },
  {
   "cell_type": "markdown",
   "metadata": {},
   "source": [
    "#### Limpieza de datos\n"
   ]
  },
  {
   "cell_type": "code",
   "execution_count": 2,
   "metadata": {},
   "outputs": [
    {
     "name": "stderr",
     "output_type": "stream",
     "text": [
      "<>:9: SyntaxWarning: invalid escape sequence '\\)'\n",
      "<>:12: SyntaxWarning: invalid escape sequence '\\W'\n",
      "<>:9: SyntaxWarning: invalid escape sequence '\\)'\n",
      "<>:12: SyntaxWarning: invalid escape sequence '\\W'\n",
      "C:\\Users\\josee\\AppData\\Local\\Temp\\ipykernel_20612\\1329027929.py:9: SyntaxWarning: invalid escape sequence '\\)'\n",
      "  emoticons=''.join(re.findall('[:;=]-+[\\)\\(pPD]+',text))\n",
      "C:\\Users\\josee\\AppData\\Local\\Temp\\ipykernel_20612\\1329027929.py:12: SyntaxWarning: invalid escape sequence '\\W'\n",
      "  text=re.sub('\\W+','',text.lower()) + emoticons.replace('-','')\n"
     ]
    }
   ],
   "source": [
    "import re\n",
    "\n",
    "#funcion limpieza\n",
    "def clean(text):\n",
    "    #remover tags\n",
    "    text=re.sub(r'<[^>]*?>', '', text) \n",
    "\n",
    "    #almacenar emoticonos\n",
    "    emoticons=''.join(re.findall('[:;=]-+[\\)\\(pPD]+',text))\n",
    "\n",
    "    #eliminar caracteres que no son palabras\n",
    "    text=re.sub('\\W+','',text.lower()) + emoticons.replace('-','')\n",
    "\n",
    "    return text "
   ]
  },
  {
   "cell_type": "code",
   "execution_count": 3,
   "metadata": {},
   "outputs": [
    {
     "ename": "SyntaxError",
     "evalue": "unterminated string literal (detected at line 4) (715937817.py, line 4)",
     "output_type": "error",
     "traceback": [
      "\u001b[1;36m  Cell \u001b[1;32mIn[3], line 4\u001b[1;36m\u001b[0m\n\u001b[1;33m    emoji_pattern=re.compile([\"\u001b[0m\n\u001b[1;37m                              ^\u001b[0m\n\u001b[1;31mSyntaxError\u001b[0m\u001b[1;31m:\u001b[0m unterminated string literal (detected at line 4)\n"
     ]
    }
   ],
   "source": [
    "# Funcion remover emojis\n",
    "\n",
    "def cleanemoji(text):\n",
    "    emoji_pattern=re.compile([\"\n",
    "                              u\"\\U0001F600-\\U0001F64F\"\n",
    "                              u\"\\U0001F300-\\U0001F5FF\"\n",
    "                              u\"\\U0001F680-\\U0001F6FF\"\n",
    "                              u\"\\U0001F1E0-\\U0001F1FF\"\n",
    "                              u\"\\U00002702-\\U000027b0\"\n",
    "                              u\"\\U000024C2-\\U0001F251\"\n",
    "                              \"]+\", flagsore.UNICODE)"
   ]
  }
 ],
 "metadata": {
  "kernelspec": {
   "display_name": "Python 3",
   "language": "python",
   "name": "python3"
  },
  "language_info": {
   "codemirror_mode": {
    "name": "ipython",
    "version": 3
   },
   "file_extension": ".py",
   "mimetype": "text/x-python",
   "name": "python",
   "nbconvert_exporter": "python",
   "pygments_lexer": "ipython3",
   "version": "3.12.1"
  }
 },
 "nbformat": 4,
 "nbformat_minor": 2
}
