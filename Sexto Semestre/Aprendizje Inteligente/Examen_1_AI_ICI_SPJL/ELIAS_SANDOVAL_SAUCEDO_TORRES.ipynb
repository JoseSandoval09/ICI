{
 "cells": [
  {
   "cell_type": "markdown",
   "id": "7a8af04c-139b-4cbc-b5c5-384ae9acb532",
   "metadata": {},
   "source": [
    "# UNIVERSIDAD AUTONOMA DE AGUASCALIENTES\n",
    "### ING. EN COMPUTACION INTELIGENTE\n",
    "### CENTRO DE CIENCIAS BASICAS\n",
    "### APRENDIZAJE INTELIGENTE\n",
    "\n",
    "Prof. Francisco Javier Luna Rosas\n",
    "\n",
    "- César Eduardo Elias del Hoyo ID: 262045 \n",
    "- José Luis Sandoval Pérez ID: 261731 \n",
    "- Diego Emanuel Saucedo Ortega ID: 261230 \n",
    "- Carlos Daniel Torres Macias ID: 244543"
   ]
  },
  {
   "cell_type": "markdown",
   "id": "03d25ad5-5616-48c0-8607-2717c79e8d94",
   "metadata": {},
   "source": [
    "#### EXAMEN 1ER PARCIAL \n",
    "<b>Implementación</b>. Implemente la red neuronal con la \n",
    "técnica de propagación hacia atrás (Feed-Forward) "
   ]
  },
  {
   "cell_type": "markdown",
   "id": "deb59ddd-9a91-4fb6-99f4-9513d9e7486a",
   "metadata": {
    "tags": []
   },
   "source": [
    "### Importar librerias"
   ]
  },
  {
   "cell_type": "code",
   "execution_count": 1,
   "id": "85fa27eb-33ce-4667-81fc-3e70006ff073",
   "metadata": {
    "tags": []
   },
   "outputs": [],
   "source": [
    "import numpy as np"
   ]
  },
  {
   "cell_type": "markdown",
   "id": "371297f4-09db-4567-a60a-4fee7e6c418a",
   "metadata": {},
   "source": [
    "### Funciones"
   ]
  },
  {
   "cell_type": "code",
   "execution_count": 2,
   "id": "2e255aaf-3c47-4e56-9895-b340cd380fad",
   "metadata": {
    "tags": []
   },
   "outputs": [],
   "source": [
    "def f(x):\n",
    "    \"\"\" funcion sigmoide\"\"\"\n",
    "    return 1 / (1 + np.exp(-x))\n",
    "\n",
    "def f1(x):\n",
    "    \"\"\" derivada de la funcion sigmoide\"\"\"\n",
    "    return f(x) * (1 - f(x))"
   ]
  },
  {
   "cell_type": "code",
   "execution_count": 3,
   "id": "24874dfb-1a10-49ac-934f-a51c8b91798d",
   "metadata": {
    "tags": []
   },
   "outputs": [],
   "source": [
    "# variables del programa\n",
    "N_ENTRADAS = 3\n",
    "N_OCULTAS = 2\n",
    "N_SALIDAS = 1\n",
    "N_CAPAS = 3\n",
    "\n",
    "TASA_DE_APRENDIZAJE = 0.9\n"
   ]
  },
  {
   "cell_type": "markdown",
   "id": "474fadc0-37be-477e-9032-4a1144aa2e67",
   "metadata": {},
   "source": [
    "### Declarar los pesos"
   ]
  },
  {
   "cell_type": "code",
   "execution_count": 4,
   "id": "2856a086-8120-4aab-b399-9e8c388f1292",
   "metadata": {
    "tags": []
   },
   "outputs": [
    {
     "name": "stdout",
     "output_type": "stream",
     "text": [
      "Pesos W1:\n",
      " [[ 0.2 -0.3]\n",
      " [ 0.4  0.1]\n",
      " [-0.5  0.2]]\n",
      "Pesos W2:\n",
      " [-0.3 -0.2]\n",
      "Bias:\n",
      " [-0.4 -0.2  0.1]\n"
     ]
    }
   ],
   "source": [
    "# inicializar los pesos\n",
    "\n",
    "# pesos de entrada a capa oculta\n",
    "W1 = np.array([[0.2,-0.3],\n",
    "               [0.4,0.1],\n",
    "               [-0.5,0.2]])\n",
    "\n",
    "# pesos de capa oculta a la salida\n",
    "W2 = np.array([-0.3,-0.2])\n",
    "\n",
    "# declarar bias\n",
    "B = np.array([-0.4,-0.2,0.1])\n",
    "\n",
    "# entradas establecidas\n",
    "X = np.array([1,0,1])\n",
    "\n",
    "print(\"Pesos W1:\\n\",W1)\n",
    "print(\"Pesos W2:\\n\",W2)\n",
    "print(\"Bias:\\n\",B)"
   ]
  },
  {
   "cell_type": "markdown",
   "id": "1fa9a4bc-01f5-4f6d-a7e4-dd6e75d81126",
   "metadata": {},
   "source": [
    "#### Calcular las salidas"
   ]
  },
  {
   "cell_type": "code",
   "execution_count": 5,
   "id": "28310e93-aefe-4e2c-83ed-4a776d6ce6f3",
   "metadata": {
    "tags": []
   },
   "outputs": [
    {
     "name": "stdout",
     "output_type": "stream",
     "text": [
      "Salida:  [0.33181223 0.42555748]\n"
     ]
    }
   ],
   "source": [
    "# calculamos la salida de las entradas a las capas ocultas\n",
    "Z1 = np.dot(X, W1)\n",
    "# sumamos el bias\n",
    "Z1[0] += B[0]\n",
    "Z1[1] += B[1]\n",
    "\n",
    "# utilizamos la funcion de activacion para obtener la entrada para la capa oculta\n",
    "A1 = f(Z1)\n",
    "\n",
    "print(\"Salida: \",A1)"
   ]
  },
  {
   "cell_type": "code",
   "execution_count": 6,
   "id": "fc045374-9935-4f6d-be58-d00782e71c14",
   "metadata": {
    "tags": []
   },
   "outputs": [
    {
     "name": "stdout",
     "output_type": "stream",
     "text": [
      "Salida:  0.47884883888902396\n"
     ]
    }
   ],
   "source": [
    "# calculamos la salida de la capa oculta a la salida\n",
    "Z2 = np.dot(A1, W2) + B[2]\n",
    "\n",
    "# utilizamos la funcion de activacion para obtener la entrada para la salida\n",
    "A2 = f(Z2)\n",
    "\n",
    "print(\"Salida: \",A2)"
   ]
  },
  {
   "cell_type": "markdown",
   "id": "fc1ae145-c164-4803-8a71-ff097ad03fd3",
   "metadata": {
    "tags": []
   },
   "source": [
    "#### Entrenamiento del MLP"
   ]
  },
  {
   "cell_type": "code",
   "execution_count": 7,
   "id": "4a23240d-6595-4dca-8c10-7e5992844819",
   "metadata": {
    "tags": []
   },
   "outputs": [
    {
     "name": "stdout",
     "output_type": "stream",
     "text": [
      "0.9999441203160521\n"
     ]
    }
   ],
   "source": [
    "# declaramos el valor objetivo\n",
    "TARGET = 1\n",
    "EPOCAS = 7000\n",
    "while A2 != TARGET and EPOCAS>0:\n",
    "    # propagacion del error\n",
    "    E6 = TARGET - A2\n",
    "    E5 = E6 * W2[1] * f1(Z1[1])\n",
    "    E4 = E6 * W2[0] * f1(Z1[0])\n",
    "    \n",
    "    # actualizar pesos y bias\n",
    "    W1[0,0] = W1[0,0] + TASA_DE_APRENDIZAJE * E4 * X[0]\n",
    "    W1[0,1] = W1[0,1] + TASA_DE_APRENDIZAJE * E5 * X[0]\n",
    "    W1[1,0] = W1[1,0] + TASA_DE_APRENDIZAJE * E4 * X[1]\n",
    "    W1[1,1] = W1[1,1] + TASA_DE_APRENDIZAJE * E5 * X[1]\n",
    "    W1[2,0] = W1[2,0] + TASA_DE_APRENDIZAJE * E4 * X[2]\n",
    "    W1[2,1] = W1[2,1] + TASA_DE_APRENDIZAJE * E5 * X[2]\n",
    "    \n",
    "    W2[0] = W2[0] + TASA_DE_APRENDIZAJE * E6 * A1[0]\n",
    "    W2[1] = W2[1] + TASA_DE_APRENDIZAJE * E6 * A1[1]\n",
    "    \n",
    "    B[0] = B[0] + TASA_DE_APRENDIZAJE * E4\n",
    "    B[1] = B[1] + TASA_DE_APRENDIZAJE * E5\n",
    "    B[2] = B[2] + TASA_DE_APRENDIZAJE * E6\n",
    "    \n",
    "    # volvemos a calcular las salidas\n",
    "    \n",
    "    # calculamos la salida de las entradas a las capas ocultas\n",
    "    Z1 = np.dot(X, W1)\n",
    "    # sumamos el bias\n",
    "    Z1[0] += B[0]\n",
    "    Z1[1] += B[1]\n",
    "\n",
    "    # utilizamos la funcion de activacion para obtener la entrada para la capa oculta\n",
    "    A1 = f(Z1)\n",
    "    \n",
    "    # calculamos la salida de la capa oculta a la salida\n",
    "    Z2 = np.dot(A1, W2) + B[2]\n",
    "\n",
    "    # utilizamos la funcion de activacion para obtener la entrada para la salida\n",
    "    A2 = f(Z2)\n",
    "    \n",
    "    EPOCAS -= 1\n",
    "\n",
    "print(A2)"
   ]
  },
  {
   "cell_type": "code",
   "execution_count": 8,
   "id": "e0865e12-79c0-4e08-ab52-e9b658a4b55e",
   "metadata": {
    "tags": []
   },
   "outputs": [
    {
     "name": "stdout",
     "output_type": "stream",
     "text": [
      "Pesos Entradas:\n",
      " [[0.92047145 0.61833445]\n",
      " [0.4        0.1       ]\n",
      " [0.22047145 1.11833445]] \n",
      "\n",
      "Pesos Capa Oculta:\n",
      " [2.03222604 3.03960186] \n",
      "\n",
      "Bias:\n",
      " [0.32047145 0.71833445 5.34334643] \n",
      "\n",
      "Entradas: [1 0 1] \n",
      "Salida: 0.9999441203160521\n"
     ]
    }
   ],
   "source": [
    "print(\"Pesos Entradas:\\n\",W1,\"\\n\")\n",
    "print(\"Pesos Capa Oculta:\\n\",W2,\"\\n\")\n",
    "print(\"Bias:\\n\",B,\"\\n\")\n",
    "\n",
    "print(\"Entradas:\",X,\"\\nSalida:\",A2)"
   ]
  },
  {
   "cell_type": "markdown",
   "id": "684d60d8",
   "metadata": {},
   "source": [
    "## Conclusiones"
   ]
  },
  {
   "cell_type": "markdown",
   "id": "34d1fe98",
   "metadata": {},
   "source": [
    "### En este examen utilizamos únicamente la librería numpy, empleamos las funciones sigmoide y declaramos los pesos y los bias que nos permitieron aplicar el algoritmo o modelo de Feed-Forward para el entrenamiento y aprendizaje de la red neuronal para obtener un salida final próxima a 1. Este resultado se obtuvo aplicando el modelo mediante capaz que realizan la transformación de la red de una sola dirección, en este caso hacia adelante y que permitieron llegar a una salida de la red neurona"
   ]
  },
  {
   "cell_type": "markdown",
   "id": "3c2075ec",
   "metadata": {},
   "source": [
    "# Bibliografía"
   ]
  },
  {
   "cell_type": "markdown",
   "id": "b484c111",
   "metadata": {},
   "source": [
    "### Coach, I. (15 de Noviembre de 2021). Construcción de una red feedforward en Python. Obtenido de YouTube: https://www.youtube.com/watch?v=U2Cs9kdwmmU"
   ]
  }
 ],
 "metadata": {
  "kernelspec": {
   "display_name": "Python 3 (ipykernel)",
   "language": "python",
   "name": "python3"
  },
  "language_info": {
   "codemirror_mode": {
    "name": "ipython",
    "version": 3
   },
   "file_extension": ".py",
   "mimetype": "text/x-python",
   "name": "python",
   "nbconvert_exporter": "python",
   "pygments_lexer": "ipython3",
   "version": "3.12.2"
  }
 },
 "nbformat": 4,
 "nbformat_minor": 5
}
