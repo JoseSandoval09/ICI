{
 "cells": [
  {
   "cell_type": "markdown",
   "metadata": {},
   "source": [
    "Universidad Autonoma de Aguascalientes"
   ]
  },
  {
   "cell_type": "markdown",
   "metadata": {},
   "source": [
    "Departamento: Ciencias de la Computación"
   ]
  },
  {
   "cell_type": "markdown",
   "metadata": {},
   "source": [
    "Carrera:  Ingenieria en Computacion Inteligente"
   ]
  },
  {
   "cell_type": "markdown",
   "metadata": {},
   "source": [
    "Curso: Aprendizaje Inteligente"
   ]
  },
  {
   "cell_type": "markdown",
   "metadata": {},
   "source": [
    "Maestro: Dr. Francisco Javier Luna Rosas\n"
   ]
  },
  {
   "cell_type": "markdown",
   "metadata": {},
   "source": [
    "Alumno: José Luis Sandoval Pérez\n"
   ]
  },
  {
   "cell_type": "markdown",
   "metadata": {},
   "source": [
    "Determinar si la flor es setosa, versicolor o virginica en base a sus medidas fisiologicas."
   ]
  },
  {
   "cell_type": "markdown",
   "metadata": {},
   "source": []
  },
  {
   "cell_type": "code",
   "execution_count": null,
   "metadata": {},
   "outputs": [],
   "source": [
    "import numpy as np\n",
    "#Modulo de pandas \n",
    "import pandas as pd"
   ]
  },
  {
   "cell_type": "code",
   "execution_count": 3,
   "metadata": {},
   "outputs": [],
   "source": [
    "#Cargar datos de la flor [largoPetalo, largoCefalo]\n",
    "#Importar datos\n",
    "datos = pd.read_csv(r'C:\\Users\\josee\\OneDrive\\Escritorio\\College\\UAA\\ICI\\Sexto Semestre\\Aprendizje Inteligente\\iris.csv', sep=';')\n",
    "#p.length\n",
    "pL = datos.iloc[:,2]\n",
    "\n",
    "#p.length\n",
    "sL = datos.iloc[:,0]\n",
    "\n",
    "#Tipo\n",
    "tip = datos.iloc[:,4]"
   ]
  },
  {
   "cell_type": "code",
   "execution_count": 4,
   "metadata": {},
   "outputs": [],
   "source": [
    "#Funcion de activacion\n",
    "#w1*x1 + w2*x2 + ...+wn*xn\n",
    "def activacion (pesos, x, b):\n",
    "    z=pesos * x \n",
    "    if z.sum()+b>0:\n",
    "         return 1\n",
    "    else:\n",
    "         return 0"
   ]
  },
  {
   "cell_type": "code",
   "execution_count": 9,
   "metadata": {},
   "outputs": [
    {
     "name": "stdout",
     "output_type": "stream",
     "text": [
      "5 2 2 3 2 2 1 0 0 0 0 0 0 0 0 0 0 0 0 0 0 0 0 0 0 0 0 0 0 0 0 0 0 0 0 0 0 0 0 0 0 0 0 0 0 0 0 0 0 0 0 0 0 0 0 0 0 0 0 0 0 0 0 0 0 0 0 0 0 0 0 0 0 0 0 0 0 0 0 0 0 0 0 0 0 0 0 0 0 0 0 0 0 0 0 0 0 0 0 0 "
     ]
    }
   ],
   "source": [
    "#entrenamiento de perceptron\n",
    "pesos=np.random.uniform(1,8,size=2)\n",
    "b= np.random.uniform(1,8)\n",
    "tasa_de_aprendizaje = 0.1\n",
    "epocas = 100\n",
    "\n",
    "for epoca in range(epocas):\n",
    "    error_total = 0\n",
    "    for index, valor in pL.items():\n",
    "       prediccion = activacion(pesos, [pL[index],sL[index]],b) #El resultado será la prediccion\n",
    "       #salida actual - salida deseada\n",
    "       if tip[index] == 'setosa':\n",
    "           clase = 1\n",
    "       else:\n",
    "           clase = 0\n",
    "       error= clase - prediccion\n",
    "       error_total += error**2\n",
    "       #Ajustar el error, correspondiente a la edad y a la orden\n",
    "       pesos[0]+=tasa_de_aprendizaje*pL[index]*error\n",
    "       pesos[1]+=tasa_de_aprendizaje*sL[index]*error\n",
    "       b+=tasa_de_aprendizaje*error\n",
    "    print(error_total, end=\" \")\n",
    "\n",
    "    perceptron sckitlearn"
   ]
  }
 ],
 "metadata": {
  "kernelspec": {
   "display_name": "Python 3",
   "language": "python",
   "name": "python3"
  },
  "language_info": {
   "codemirror_mode": {
    "name": "ipython",
    "version": 3
   },
   "file_extension": ".py",
   "mimetype": "text/x-python",
   "name": "python",
   "nbconvert_exporter": "python",
   "pygments_lexer": "ipython3",
   "version": "3.12.1"
  }
 },
 "nbformat": 4,
 "nbformat_minor": 2
}
