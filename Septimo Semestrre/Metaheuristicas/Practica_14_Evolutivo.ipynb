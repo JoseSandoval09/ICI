{
 "cells": [
  {
   "cell_type": "markdown",
   "metadata": {},
   "source": [
    "## Practica 14 \n"
   ]
  },
  {
   "cell_type": "code",
   "execution_count": null,
   "metadata": {},
   "outputs": [],
   "source": [
    "import random\n",
    "import numpy as np\n",
    "import matplotlib.pyplot as plt\n",
    "from deap import base, creator, tools, algorithms\n",
    "\n",
    "## Definimos funcion objetivo\n",
    "def funcion_objetivo(individuo):\n",
    "    x = individuo[0]\n",
    "    return 1 / (1+x**2);\n",
    "\n",
    "#Parametros\n",
    "rango_x=(-10,10)\n",
    "poblacion_size=100 \n",
    "generaciones=50\n",
    "prob_cruce=0.7\n",
    "prob_mutacion=0.2\n",
    "individuo_dim=1\n",
    "\n",
    "#Inicializamos la poblacion con la libreria deap\n",
    "creator.create(\"FitnessMax\", base.Fitness, weights=(1.0,))\n",
    "creator.create(\"Individuo\", list, fitness=creator.FitnessMax)\n",
    "\n",
    "## Definimos inidividuo y poblacion\n",
    "toolbox = base.Toolbox()\n",
    "toolbox.register(\"attr_float\", random.uniform, rango_x[0], rango_x[1])\n",
    "toolbox.register(\"individuo\", tools.initRepeat, creator.Individuo, toolbox.attr_float, n=individuo_dim)\n",
    "toolbox.register(\"poblacion\", tools.initRepeat, list, toolbox.individuo)\n",
    "\n",
    "##Definimos operadores geneticos\n",
    "toolbox.register(\"evaluate\", funcion_objetivo)\n",
    "toolbox.register(\"mate\", tools.cxBlend, alpha=0.5)\n",
    "toolbox.register(\"mutate\", tools.mutGaussian, mu=0, sigma=1, indpb=0.1)\n",
    "toolbox.register(\"select\", tools.selRoulette)\n"
   ]
  }
 ],
 "metadata": {
  "kernelspec": {
   "display_name": ".venv",
   "language": "python",
   "name": "python3"
  },
  "language_info": {
   "name": "python",
   "version": "3.12.3"
  }
 },
 "nbformat": 4,
 "nbformat_minor": 2
}
