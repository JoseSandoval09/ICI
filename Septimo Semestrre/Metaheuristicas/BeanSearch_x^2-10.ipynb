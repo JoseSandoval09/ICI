{
 "cells": [
  {
   "cell_type": "markdown",
   "metadata": {},
   "source": [
    "## UNIVERSIDAD AUTONOMA DE AGUASCALIENTES\n",
    "### Departamento: Centro de Ciencias Básicas \n",
    "### Jose Luis Sandoval Perez\n",
    "### Curso: Metaheurística I\n",
    "### Maestro: Francisco Javier Luna Rosas\n",
    "### 7mo Semestre\n",
    "\n",
    "##### La busqueda local es una tecnica utilizada para resoolver probleas de optimizacion donde la solucion optima se busca moviendose interativamente\n",
    "##### Busqueda Greedy para buscar el optimo global en una funcion 2D o minimo global y graficamos.\n",
    "\n"
   ]
  },
  {
   "cell_type": "code",
   "execution_count": null,
   "metadata": {},
   "outputs": [
    {
     "ename": "",
     "evalue": "",
     "output_type": "error",
     "traceback": [
      "\u001b[1;31mLa ejecución de celdas con 'Python 3.12.3' requiere el paquete ipykernel.\n",
      "\u001b[1;31mEjecute el siguiente comando para instalar 'ipykernel' en el entorno de Python. comando \n",
      "\u001b[1;31m: '/bin/python3 -m pip install ipykernel -U --user --force-reinstall'"
     ]
    }
   ],
   "source": [
    "import numpy as np\n",
    "import matplotlib.pyplot as plt\n"
   ]
  },
  {
   "cell_type": "code",
   "execution_count": null,
   "metadata": {},
   "outputs": [],
   "source": [
    "def funcion_objetivo(x):\n",
    "    return -x^2+10\n",
    "\n",
    "def bean_serch(a,b,num_puntos,num_iteraciones):\n",
    "    for i in range(num_iteraciones):\n",
    "       puntos=np.linespace(a,b,num_puntos)\n",
    "       #Evaluamos la funcion en los puntos\n",
    "       valores_funcion=[funcion_objetivo(p) for p in puntos]\n",
    "       #Buscamos el punto con el valor mas alto\n",
    "       indice_max=np.argmax(valores_funcion)\n",
    "       xmax=puntos[indice_max]\n",
    "       #Reducimos intervalo alrededor del mejor punto\n",
    "       longitud_intervalo=(b-a)/4\n",
    "       a=xmax-longitud_intervalo / 2\n",
    "       b=xmax+longitud_intervalo / 2\n",
    "        #MOstramos el resultado\n",
    "    print(\"iteracion {i+1} xmax={xmax} f(xmax)={funcion_objetivo(xmax)}\")\n",
    "    return xmax, funcion_objetivo(xmax)  \n",
    "    \n",
    "\n",
    "    \n",
    "#Definimos parametros iniciales\n",
    "a=-5 #Limite inferior\n",
    "b=5#Limite superior\n",
    "num_puntos=100\n",
    "num_iteraciones=10\n",
    "\n",
    "xopt, fopt=bean_serch(a,b,num_puntos,num_iteraciones)\n",
    "\n",
    "#Graficamos\n",
    "x_vals=np.linspace(-5,5,100)\n",
    "y_vals=funcion_objetivo(x_vals)\n",
    ".plt.plot(x_vals,y_vals,label=\"f(x)=-x^2+10\")\n",
    "plt.scatter(xopt,fopt,color=\"red\",label=\"Optimo\")\n",
    "plt.xlabel(\"x\")\n",
    "plt.ylabel(\"f(x)\")\n",
    "plt.legend()\n",
    "plt.grid(true)\n",
    "plt.show()\n",
    "\n"
   ]
  }
 ],
 "metadata": {
  "kernelspec": {
   "display_name": "Python 3",
   "language": "python",
   "name": "python3"
  },
  "language_info": {
   "name": "python",
   "version": "3.12.3"
  }
 },
 "nbformat": 4,
 "nbformat_minor": 2
}
