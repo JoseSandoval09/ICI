{
 "cells": [
  {
   "cell_type": "markdown",
   "id": "6ac5b75b-e2f1-43a7-9150-55203f88c35c",
   "metadata": {},
   "source": [
    "# Universidad Autonoma de Aguascalientes\n",
    "## Centro de Ciencias Basicas\n",
    "## Ing. En Computacion Inteligente\n",
    "## Septimo Semestre / Metaherisitcas II\n",
    "### Prof. Francisco Javier Luna Rosas\n",
    "\n",
    "### Equipo:\n",
    "|Nombre|ID|\n",
    "| ---- | --- |\n",
    "|César Eduardo Elias del Hoyo |262045|\n",
    "|José Luis Sandoval Pérez |261731|\n",
    "|Diego Emanuel Saucedo Ortega |261230|\n",
    "|Carlos Daniel Torres Macías |244543|"
   ]
  },
  {
   "cell_type": "markdown",
   "id": "d82aaf0b-29b0-444f-b98d-dc17ea0a33bf",
   "metadata": {},
   "source": [
    "## Examen I: Uso de PSO para asignacion de procesamiento de resenas de cine en paralelo\n",
    "El objetivo del siguiente documento es desarrollar la asignacion por medio del algoritmo metaheuristico de PSO para el procesamiento de una gran cantidad de resenas de cine, las cuales en caso de ser procesadas de forma secuencial podrian demorar mas, se propone un procesamiento en paralelo que ayude a completar la tarea en menor tiempo."
   ]
  },
  {
   "cell_type": "markdown",
   "id": "2bd6a077-d841-4f3b-8759-9930cfe99f85",
   "metadata": {},
   "source": [
    "### Importar librerias"
   ]
  },
  {
   "cell_type": "code",
   "execution_count": 74,
   "id": "812ee513-ea7a-42a4-9cbb-9c3ab65aa751",
   "metadata": {
    "tags": []
   },
   "outputs": [],
   "source": [
    "import pandas as pd\n",
    "import numpy as np\n",
    "import matplotlib.pyplot as plt"
   ]
  },
  {
   "cell_type": "code",
   "execution_count": 75,
   "id": "fb703bc4-0f6c-43c0-b1f1-814df265e348",
   "metadata": {
    "tags": []
   },
   "outputs": [],
   "source": [
    "# Inicializar parámetros\n",
    "num_particles = 30\n",
    "num_dimensions = 1  # Cambiado a 1 dimensión\n",
    "max_iterations = 100\n",
    "w = 0.5  # Inercia\n",
    "c1 = 1.5  # Coeficiente cognitivo\n",
    "c2 = 1.5  # Coeficiente social\n",
    "\n",
    "NUM_PROCESADORES = 8"
   ]
  },
  {
   "cell_type": "markdown",
   "id": "ce267941-d796-4298-9194-0f3e4bb3f421",
   "metadata": {},
   "source": [
    "### Funcion objetivo"
   ]
  },
  {
   "cell_type": "code",
   "execution_count": 76,
   "id": "262a42a3-71a9-4cfe-b7b2-9917a1c953ed",
   "metadata": {
    "tags": []
   },
   "outputs": [],
   "source": [
    "def porcentaje_balanceados(particula):\n",
    "    promedio_procesadores = np.mean(particula)\n",
    "    th_H = 1.2 * promedio_procesadores\n",
    "    th_L = 0.8 * promedio_procesadores\n",
    "    \n",
    "    balanceado = 0\n",
    "    for x in particula:\n",
    "        if x>th_H and x<th_L:\n",
    "            balanceado += 1\n",
    "    return balanceado/NUM_PROCESADORES\n",
    "\n",
    "def objective_function(particula):\n",
    "    # tomamos el maximo de toda la particula\n",
    "    maxspan = max(particula)\n",
    "    # calculamos el promedio de uso de procesadores\n",
    "    promedio_uso = np.mean(particula/maxspan)\n",
    "    # determinamos el limite de sobrecarga de procesador\n",
    "    porcentaje_carga = porcentaje_balanceados(particula)\n",
    "    \n",
    "    return (1/maxspan) + promedio_uso + porcentaje_carga   "
   ]
  },
  {
   "cell_type": "markdown",
   "id": "1a4da767-4ee5-41fa-83d4-f0fe49fcff05",
   "metadata": {},
   "source": [
    "### Generar particulas"
   ]
  },
  {
   "cell_type": "code",
   "execution_count": 77,
   "id": "98e12319-d61f-442f-ae60-a2dba26fd3ea",
   "metadata": {
    "tags": []
   },
   "outputs": [],
   "source": [
    "def generar_particulas(num_particulas,num_resenas):\n",
    "    particulas = []\n",
    "\n",
    "    for i in range(num_particles):\n",
    "        resenas_restantes = num_resenas\n",
    "        \n",
    "        # Generar n-1 números aleatorios entre 0 y m\n",
    "        arreglo = np.random.randint(0, num_resenas, NUM_PROCESADORES-1)\n",
    "        # Calcular el último número para que la suma sea m\n",
    "        ultimo_numero = num_resenas - np.sum(arreglo)\n",
    "        # Añadir el último número al arreglo\n",
    "        arreglo = np.append(arreglo, ultimo_numero)\n",
    "        # Si el último número es negativo, ajustar el arreglo\n",
    "        while ultimo_numero < 0:\n",
    "            arreglo = np.random.randint(0, num_resenas, NUM_PROCESADORES-1)\n",
    "            ultimo_numero = num_resenas - np.sum(arreglo)\n",
    "            arreglo = np.append(arreglo, ultimo_numero)\n",
    "        \n",
    "        particulas.append(arreglo)\n",
    "    \n",
    "    return particulas\n",
    "            "
   ]
  },
  {
   "cell_type": "markdown",
   "id": "7ef0f33d-c288-450f-a5aa-8614469f148a",
   "metadata": {},
   "source": [
    "### Implementacion PSO"
   ]
  },
  {
   "cell_type": "code",
   "execution_count": 78,
   "id": "7e1408b0-a117-4c32-b1ca-5f33c66f3125",
   "metadata": {},
   "outputs": [],
   "source": [
    "def ejecutar_PSO(num_resenas):\n",
    "\n",
    "    # Inicializar partículas\n",
    "    particles = generar_particulas(num_particles,num_resenas)\n",
    "\n",
    "    velocities = np.random.randint(-5, 5, [num_particles,NUM_PROCESADORES])  # Velocidades aleatorias entre -5 y 5 \n",
    "    personal_best_positions = particles.copy()\n",
    "    personal_best_scores = np.apply_along_axis(objective_function, 1, particles)\n",
    "    global_best_position = personal_best_positions[np.argmax(personal_best_scores)]\n",
    "\n",
    "    # PSO loop\n",
    "    for iteration in range(max_iterations):\n",
    "        for i in range(num_particles):\n",
    "            # Actualizar velocidad\n",
    "            r1, r2 = np.random.rand(2)\n",
    "            # actualizamos cada conjunto de velocidades\n",
    "            for index in range(NUM_PROCESADORES):\n",
    "                velocities[i][index] = (w * velocities[i][index] +\n",
    "                                 c1 * r1 * (personal_best_positions[i][index] - particles[i][index]) +\n",
    "                                 c2 * r2 * (global_best_position[index] - particles[i][index])).astype(int)\n",
    "\n",
    "                # Actualizar posición\n",
    "                particles[i][index] += velocities[i][index]\n",
    "\n",
    "            # ajustar el que sea el total de resenas\n",
    "            resto_resenas_particula = num_resenas - np.sum(particles[i])\n",
    "\n",
    "            if resto_resenas_particula > 0:\n",
    "                indice_max = np.argmax(particles[i])\n",
    "                particles[i][indice_max] += resto_resenas_particula\n",
    "            elif resto_resenas_particula < 0:\n",
    "                indice_min = np.argmin(particles[i])\n",
    "                particles[i][indice_min] += resto_resenas_particula\n",
    "\n",
    "            # Evaluar nueva posición\n",
    "            score = objective_function(particles[i])\n",
    "\n",
    "            # Actualizar mejor posición personal\n",
    "            if score < personal_best_scores[i]:\n",
    "                personal_best_scores[i] = score\n",
    "                personal_best_positions[i] = particles[i]\n",
    "\n",
    "        # Actualizar mejor posición global\n",
    "        global_best_position = personal_best_positions[np.argmax(personal_best_scores)]\n",
    "\n",
    "        # Imprimir progreso\n",
    "        # print(f\"Iteración {iteration+1}/{max_iterations}, Mejor puntuación global: {min(personal_best_scores)}\")\n",
    "\n",
    "    print(\"Mejor posición encontrada:\", global_best_position)\n",
    "    print(\"Fitness:\",objective_function(global_best_position))\n",
    "    print(\"Tiempo total:\",np.max(global_best_position))\n",
    "    \n",
    "    return global_best_position"
   ]
  },
  {
   "cell_type": "markdown",
   "id": "17336f6d-e5c8-4c99-91f0-22cb444e91a9",
   "metadata": {},
   "source": [
    "## Resultados de optimizacion en paralelo"
   ]
  },
  {
   "cell_type": "markdown",
   "id": "3592c8ad-9376-4b47-b319-276d21345eb7",
   "metadata": {
    "tags": []
   },
   "source": [
    "Se aplica PSO a diferentes numeros de resenas a procesar en 8 procesadores"
   ]
  },
  {
   "cell_type": "code",
   "execution_count": 79,
   "id": "19689efc-7fb3-48e5-ae0e-3bdf903f4a02",
   "metadata": {
    "tags": []
   },
   "outputs": [
    {
     "name": "stdout",
     "output_type": "stream",
     "text": [
      "Para 10000 resenas:\n",
      "Mejor posición encontrada: [1779 1604  234 1063 2086  849 1144 1241]\n",
      "Fitness: 0.599712368168744\n",
      "Tiempo total: 2086\n",
      "\n",
      "Para 20000 resenas:\n",
      "Mejor posición encontrada: [3012 3899 2272 2476  926 2052 1416 3947]\n",
      "Fitness: 0.6336458069419814\n",
      "Tiempo total: 3947\n",
      "\n",
      "Para 30000 resenas:\n",
      "Mejor posición encontrada: [1631 5319 5079 4115 2146 6492 2262 2956]\n",
      "Fitness: 0.5777880468268638\n",
      "Tiempo total: 6492\n",
      "\n",
      "Para 50000 resenas:\n",
      "Mejor posición encontrada: [ 2325  9212 10804  8761  3320 11346  2175  2057]\n",
      "Fitness: 0.5509430636347612\n",
      "Tiempo total: 11346\n",
      "\n",
      "Para 100000 resenas:\n",
      "Mejor posición encontrada: [21703  6697  3700 17829 18124  1101 17239 13607]\n",
      "Fitness: 0.5760033175137079\n",
      "Tiempo total: 21703\n",
      "\n"
     ]
    }
   ],
   "source": [
    "NUM_RESENAS = [10000,20000,30000,50000,100000]\n",
    "# almacenamos los tiempos totales de cada prueba\n",
    "tiempo_total_paralelo = []\n",
    "\n",
    "for resenas in NUM_RESENAS:\n",
    "    print(\"Para\",resenas,\"resenas:\")\n",
    "    gb_position = ejecutar_PSO(resenas)\n",
    "    tiempo_total_paralelo.append(np.max(gb_position))\n",
    "    print(\"\")"
   ]
  },
  {
   "cell_type": "markdown",
   "id": "f3c75cd3-91d9-4f68-ae6a-dade4b50d2b0",
   "metadata": {},
   "source": [
    "### Comparacion con procesamiento en serie"
   ]
  },
  {
   "cell_type": "code",
   "execution_count": 80,
   "id": "48355d3d-8e6a-47f9-bc1c-ef0056ed783b",
   "metadata": {
    "tags": []
   },
   "outputs": [
    {
     "data": {
      "text/html": [
       "<div>\n",
       "<style scoped>\n",
       "    .dataframe tbody tr th:only-of-type {\n",
       "        vertical-align: middle;\n",
       "    }\n",
       "\n",
       "    .dataframe tbody tr th {\n",
       "        vertical-align: top;\n",
       "    }\n",
       "\n",
       "    .dataframe thead th {\n",
       "        text-align: right;\n",
       "    }\n",
       "</style>\n",
       "<table border=\"1\" class=\"dataframe\">\n",
       "  <thead>\n",
       "    <tr style=\"text-align: right;\">\n",
       "      <th></th>\n",
       "      <th>Num.Resenas</th>\n",
       "      <th>P.Serie</th>\n",
       "      <th>P.Paralelo</th>\n",
       "    </tr>\n",
       "  </thead>\n",
       "  <tbody>\n",
       "    <tr>\n",
       "      <th>0</th>\n",
       "      <td>10000</td>\n",
       "      <td>10000</td>\n",
       "      <td>2086</td>\n",
       "    </tr>\n",
       "    <tr>\n",
       "      <th>1</th>\n",
       "      <td>20000</td>\n",
       "      <td>20000</td>\n",
       "      <td>3947</td>\n",
       "    </tr>\n",
       "    <tr>\n",
       "      <th>2</th>\n",
       "      <td>30000</td>\n",
       "      <td>30000</td>\n",
       "      <td>6492</td>\n",
       "    </tr>\n",
       "    <tr>\n",
       "      <th>3</th>\n",
       "      <td>50000</td>\n",
       "      <td>50000</td>\n",
       "      <td>11346</td>\n",
       "    </tr>\n",
       "    <tr>\n",
       "      <th>4</th>\n",
       "      <td>100000</td>\n",
       "      <td>100000</td>\n",
       "      <td>21703</td>\n",
       "    </tr>\n",
       "  </tbody>\n",
       "</table>\n",
       "</div>"
      ],
      "text/plain": [
       "   Num.Resenas  P.Serie  P.Paralelo\n",
       "0        10000    10000        2086\n",
       "1        20000    20000        3947\n",
       "2        30000    30000        6492\n",
       "3        50000    50000       11346\n",
       "4       100000   100000       21703"
      ]
     },
     "execution_count": 80,
     "metadata": {},
     "output_type": "execute_result"
    }
   ],
   "source": [
    "resultados = {\"Num.Resenas\":NUM_RESENAS,\"P.Serie\":NUM_RESENAS,\"P.Paralelo\":tiempo_total_paralelo}\n",
    "\n",
    "df_res = pd.DataFrame(resultados)\n",
    "df_res"
   ]
  },
  {
   "cell_type": "markdown",
   "id": "e0310eb7-6bc1-4ce5-96b2-843a57835077",
   "metadata": {},
   "source": [
    "## Grafico comparativo"
   ]
  },
  {
   "cell_type": "code",
   "execution_count": 81,
   "id": "6027cedb-bf55-46cc-aed0-d6cc06a7ee68",
   "metadata": {
    "tags": []
   },
   "outputs": [
    {
     "data": {
      "image/png": "[encoded data removed]",
      "text/plain": [
       "<Figure size 640x480 with 1 Axes>"
      ]
     },
     "metadata": {},
     "output_type": "display_data"
    }
   ],
   "source": [
    "# Crear la gráfica de barras\n",
    "bar_width = 0.35\n",
    "r1 = range(len(df_res['P.Serie']))\n",
    "r2 = [x + bar_width for x in r1]\n",
    "\n",
    "plt.bar(r1, df_res['P.Serie'], color='b', width=bar_width, edgecolor='grey', label='Serie')\n",
    "plt.bar(r2, df_res['P.Paralelo'], color='r', width=bar_width, edgecolor='grey', label='Paralelo')\n",
    "\n",
    "# Añadir etiquetas y título\n",
    "plt.xlabel('Num. Resenas', fontweight='bold')\n",
    "plt.ylabel('Tiempo total', fontweight='bold')\n",
    "plt.title('Gráfica de Barras Comparativa')\n",
    "plt.xticks([r + bar_width/2 for r in range(len(df_res['P.Serie']))], df_res['Num.Resenas'])\n",
    "\n",
    "# Añadir leyenda\n",
    "plt.legend()\n",
    "\n",
    "# Mostrar la gráfica\n",
    "plt.show()"
   ]
  },
  {
   "cell_type": "markdown",
   "id": "6515c25e-f547-4b31-b291-e3da174b1cf9",
   "metadata": {},
   "source": [
    "### Conclusion\n",
    "Mediante la implementacion del PSO en la asignacion de procesamiento en paralelo, se pueden atacar varios de los problemas que pueden surgir al buscar la optimizacion como las sobrecargas, la reparticion equitativa y evidentemente, el tiempo de procesamiento requerido.\n",
    "Si bien la idea de utilizar el PSO es sencilla, se requiere poder entender la abstraccion de las particulas para lograr el desarrollo deseado y por ende, la mejor respuesta posible."
   ]
  }
 ],
 "metadata": {
  "kernelspec": {
   "display_name": "Python 3 (ipykernel)",
   "language": "python",
   "name": "python3"
  },
  "language_info": {
   "codemirror_mode": {
    "name": "ipython",
    "version": 3
   },
   "file_extension": ".py",
   "mimetype": "text/x-python",
   "name": "python",
   "nbconvert_exporter": "python",
   "pygments_lexer": "ipython3",
   "version": "3.11.5"
  }
 },
 "nbformat": 4,
 "nbformat_minor": 5
}
