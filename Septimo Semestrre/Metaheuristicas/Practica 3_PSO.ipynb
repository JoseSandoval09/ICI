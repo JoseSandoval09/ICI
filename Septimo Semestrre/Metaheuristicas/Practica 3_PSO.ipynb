{
 "cells": [
  {
   "cell_type": "markdown",
   "metadata": {},
   "source": [
    "## UNIVERSIDAD AUTONOMA DE AGUASCALIENTES\n",
    "### Departamento: Centro de Ciencias Básicas \n",
    "### Jose Luis Sandoval Perez\n",
    "### Curso: Metaheurística I\n",
    "### Maestro: Francisco Javier Luna Rosas\n",
    "### 7mo Semestre"
   ]
  },
  {
   "cell_type": "markdown",
   "metadata": {},
   "source": [
    "# PRACTICA No 3: PSO\n",
    "### La optimización por enjambre de partícula (PSO) es un algoritmo de optimización basado a simulación de la conducta social de organismo, como badadas de aves o bancos de peces\n",
    "\n",
    "### En esta práctica implementamos PSO para buscar el óptimo global de una función en 2D (f(x) = x^2)"
   ]
  },
  {
   "cell_type": "markdown",
   "metadata": {},
   "source": [
    "## Paso 1: Importar las librerías necesarias"
   ]
  },
  {
   "cell_type": "code",
   "execution_count": 1,
   "metadata": {},
   "outputs": [],
   "source": [
    "# Librerias\n",
    "import numpy as np\n",
    "import random"
   ]
  },
  {
   "cell_type": "markdown",
   "metadata": {},
   "source": [
    "## Paso 2: Definir la función objetivo"
   ]
  },
  {
   "cell_type": "code",
   "execution_count": 2,
   "metadata": {},
   "outputs": [],
   "source": [
    "# Funcion objetivo\n",
    "def objetive_f(x):\n",
    "    return x**2"
   ]
  },
  {
   "cell_type": "markdown",
   "metadata": {},
   "source": [
    "## Paso 3: Inicializar los parametros del PSO"
   ]
  },
  {
   "cell_type": "code",
   "execution_count": 3,
   "metadata": {},
   "outputs": [],
   "source": [
    "# Parametros del PSo\n",
    "num_particles = 30\n",
    "num_dimensions = 1\n",
    "num_iteraciones = 100\n",
    "w = 0.5 # Factor de inercia que controla la velocidad\n",
    "c1 = 1.5 # Constante cognitivia\n",
    "c2 = 2.0 # Constante social\n",
    "\n",
    "# Limites de la busqueda\n",
    "bounds = (-10,10)\n",
    "\n",
    "history_position = []"
   ]
  },
  {
   "cell_type": "markdown",
   "metadata": {},
   "source": [
    "## Paso 4: Inicializamos las particulas y velocidades"
   ]
  },
  {
   "cell_type": "code",
   "execution_count": 4,
   "metadata": {},
   "outputs": [],
   "source": [
    "# Inicializar las particulas\n",
    "particles = np.random.uniform(bounds[0], bounds[1], (num_particles, num_dimensions))\n",
    "velocities = np.random.uniform(-1, 1, (num_particles, num_dimensions)) # Valor aleatorio entre -1 y 1\n",
    "\n",
    "# Inicializar las mejores posiciones individuales y globales\n",
    "pbest_position = particles.copy()\n",
    "pbest_value = np.array([objetive_f(x) for x in particles])\n",
    "gbest_position = pbest_position[np.argmin(pbest_value)] # Minimo valor de x\n",
    "gbest_value = np.min(pbest_value) # Valor de la funcion par la funcion xi\n",
    "\n",
    "# Una particula (pbest) representa x, pero x no es la solucion\n",
    "# La solucion se obtiene a partir del calculo de las x\n",
    "\n",
    "#particles"
   ]
  },
  {
   "cell_type": "markdown",
   "metadata": {},
   "source": [
    "## Paso 5: Implementar el ciclo principal del PSO"
   ]
  },
  {
   "cell_type": "code",
   "execution_count": 7,
   "metadata": {},
   "outputs": [
    {
     "name": "stdout",
     "output_type": "stream",
     "text": [
      "Iteracion 1 / 100, Mejor valor global: 0.928543234327528\n",
      "Iteracion 2 / 100, Mejor valor global: [0.02952619]\n",
      "Iteracion 3 / 100, Mejor valor global: [0.00050786]\n",
      "Iteracion 4 / 100, Mejor valor global: [5.48182719e-05]\n",
      "Iteracion 5 / 100, Mejor valor global: [5.48182719e-05]\n",
      "Iteracion 6 / 100, Mejor valor global: [5.48182719e-05]\n",
      "Iteracion 7 / 100, Mejor valor global: [5.48182719e-05]\n",
      "Iteracion 8 / 100, Mejor valor global: [5.48182719e-05]\n",
      "Iteracion 9 / 100, Mejor valor global: [5.48182719e-05]\n",
      "Iteracion 10 / 100, Mejor valor global: [5.48182719e-05]\n",
      "Iteracion 11 / 100, Mejor valor global: [5.48182719e-05]\n",
      "Iteracion 12 / 100, Mejor valor global: [5.48182719e-05]\n",
      "Iteracion 13 / 100, Mejor valor global: [5.48182719e-05]\n",
      "Iteracion 14 / 100, Mejor valor global: [5.48182719e-05]\n",
      "Iteracion 15 / 100, Mejor valor global: [2.98852014e-06]\n",
      "Iteracion 16 / 100, Mejor valor global: [2.98852014e-06]\n",
      "Iteracion 17 / 100, Mejor valor global: [2.98852014e-06]\n",
      "Iteracion 18 / 100, Mejor valor global: [2.98852014e-06]\n",
      "Iteracion 19 / 100, Mejor valor global: [2.98852014e-06]\n",
      "Iteracion 20 / 100, Mejor valor global: [2.98852014e-06]\n",
      "Iteracion 21 / 100, Mejor valor global: [2.67922382e-06]\n",
      "Iteracion 22 / 100, Mejor valor global: [4.11746015e-08]\n",
      "Iteracion 23 / 100, Mejor valor global: [4.11746015e-08]\n",
      "Iteracion 24 / 100, Mejor valor global: [1.99756336e-08]\n",
      "Iteracion 25 / 100, Mejor valor global: [1.99756336e-08]\n",
      "Iteracion 26 / 100, Mejor valor global: [1.99756336e-08]\n",
      "Iteracion 27 / 100, Mejor valor global: [1.04552233e-09]\n",
      "Iteracion 28 / 100, Mejor valor global: [1.04552233e-09]\n",
      "Iteracion 29 / 100, Mejor valor global: [6.79657223e-11]\n",
      "Iteracion 30 / 100, Mejor valor global: [6.79657223e-11]\n",
      "Iteracion 31 / 100, Mejor valor global: [6.79657223e-11]\n",
      "Iteracion 32 / 100, Mejor valor global: [6.79657223e-11]\n",
      "Iteracion 33 / 100, Mejor valor global: [6.79657223e-11]\n",
      "Iteracion 34 / 100, Mejor valor global: [6.79657223e-11]\n",
      "Iteracion 35 / 100, Mejor valor global: [6.79657223e-11]\n",
      "Iteracion 36 / 100, Mejor valor global: [6.79657223e-11]\n",
      "Iteracion 37 / 100, Mejor valor global: [6.79657223e-11]\n",
      "Iteracion 38 / 100, Mejor valor global: [6.79657223e-11]\n",
      "Iteracion 39 / 100, Mejor valor global: [8.19193908e-12]\n",
      "Iteracion 40 / 100, Mejor valor global: [8.19193908e-12]\n",
      "Iteracion 41 / 100, Mejor valor global: [8.19193908e-12]\n",
      "Iteracion 42 / 100, Mejor valor global: [4.49460354e-14]\n",
      "Iteracion 43 / 100, Mejor valor global: [4.49460354e-14]\n",
      "Iteracion 44 / 100, Mejor valor global: [4.49460354e-14]\n",
      "Iteracion 45 / 100, Mejor valor global: [4.49460354e-14]\n",
      "Iteracion 46 / 100, Mejor valor global: [4.49460354e-14]\n",
      "Iteracion 47 / 100, Mejor valor global: [4.49460354e-14]\n",
      "Iteracion 48 / 100, Mejor valor global: [4.49460354e-14]\n",
      "Iteracion 49 / 100, Mejor valor global: [4.49460354e-14]\n",
      "Iteracion 50 / 100, Mejor valor global: [1.23674988e-14]\n",
      "Iteracion 51 / 100, Mejor valor global: [1.5233154e-15]\n",
      "Iteracion 52 / 100, Mejor valor global: [8.64290402e-18]\n",
      "Iteracion 53 / 100, Mejor valor global: [8.64290402e-18]\n",
      "Iteracion 54 / 100, Mejor valor global: [3.35596961e-18]\n",
      "Iteracion 55 / 100, Mejor valor global: [3.35596961e-18]\n",
      "Iteracion 56 / 100, Mejor valor global: [3.35596961e-18]\n",
      "Iteracion 57 / 100, Mejor valor global: [3.35596961e-18]\n",
      "Iteracion 58 / 100, Mejor valor global: [3.35596961e-18]\n",
      "Iteracion 59 / 100, Mejor valor global: [3.35596961e-18]\n",
      "Iteracion 60 / 100, Mejor valor global: [3.89907153e-19]\n",
      "Iteracion 61 / 100, Mejor valor global: [3.89907153e-19]\n",
      "Iteracion 62 / 100, Mejor valor global: [3.89907153e-19]\n",
      "Iteracion 63 / 100, Mejor valor global: [3.89907153e-19]\n",
      "Iteracion 64 / 100, Mejor valor global: [3.89907153e-19]\n",
      "Iteracion 65 / 100, Mejor valor global: [3.89907153e-19]\n",
      "Iteracion 66 / 100, Mejor valor global: [2.76136493e-19]\n",
      "Iteracion 67 / 100, Mejor valor global: [6.41609954e-23]\n",
      "Iteracion 68 / 100, Mejor valor global: [6.41609954e-23]\n",
      "Iteracion 69 / 100, Mejor valor global: [6.41609954e-23]\n",
      "Iteracion 70 / 100, Mejor valor global: [6.41609954e-23]\n",
      "Iteracion 71 / 100, Mejor valor global: [6.41609954e-23]\n",
      "Iteracion 72 / 100, Mejor valor global: [6.41609954e-23]\n",
      "Iteracion 73 / 100, Mejor valor global: [6.41609954e-23]\n",
      "Iteracion 74 / 100, Mejor valor global: [6.41609954e-23]\n",
      "Iteracion 75 / 100, Mejor valor global: [6.41609954e-23]\n",
      "Iteracion 76 / 100, Mejor valor global: [6.41609954e-23]\n",
      "Iteracion 77 / 100, Mejor valor global: [1.88647472e-24]\n",
      "Iteracion 78 / 100, Mejor valor global: [1.88647472e-24]\n",
      "Iteracion 79 / 100, Mejor valor global: [1.88647472e-24]\n",
      "Iteracion 80 / 100, Mejor valor global: [1.88647472e-24]\n",
      "Iteracion 81 / 100, Mejor valor global: [1.88647472e-24]\n",
      "Iteracion 82 / 100, Mejor valor global: [1.88647472e-24]\n",
      "Iteracion 83 / 100, Mejor valor global: [1.88647472e-24]\n",
      "Iteracion 84 / 100, Mejor valor global: [1.88647472e-24]\n",
      "Iteracion 85 / 100, Mejor valor global: [6.97479703e-25]\n",
      "Iteracion 86 / 100, Mejor valor global: [4.05638053e-25]\n",
      "Iteracion 87 / 100, Mejor valor global: [4.05638053e-25]\n",
      "Iteracion 88 / 100, Mejor valor global: [4.05638053e-25]\n",
      "Iteracion 89 / 100, Mejor valor global: [7.502471e-26]\n",
      "Iteracion 90 / 100, Mejor valor global: [7.33542503e-27]\n",
      "Iteracion 91 / 100, Mejor valor global: [7.19536683e-29]\n",
      "Iteracion 92 / 100, Mejor valor global: [7.19536683e-29]\n",
      "Iteracion 93 / 100, Mejor valor global: [4.22687515e-29]\n",
      "Iteracion 94 / 100, Mejor valor global: [4.22687515e-29]\n",
      "Iteracion 95 / 100, Mejor valor global: [1.37503487e-29]\n",
      "Iteracion 96 / 100, Mejor valor global: [1.1892445e-29]\n",
      "Iteracion 97 / 100, Mejor valor global: [1.1892445e-29]\n",
      "Iteracion 98 / 100, Mejor valor global: [5.91996919e-30]\n",
      "Iteracion 99 / 100, Mejor valor global: [1.85516976e-32]\n",
      "Iteracion 100 / 100, Mejor valor global: [1.85516976e-32]\n",
      "Mejor posicion encontrada: [-1.36204617e-16], con valor: [1.85516976e-32] \n"
     ]
    }
   ],
   "source": [
    "for t in range (num_iteraciones):\n",
    "    for i in range (num_particles):\n",
    "        # Evaluar la funcion objetivo\n",
    "        fitness = objetive_f(particles[i])\n",
    "\n",
    "        # Actualizar la mejor posicion individual\n",
    "        if fitness < pbest_value[1]:\n",
    "            pbest_value[1] = fitness\n",
    "            pbest_position[i] = particles[i].copy()\n",
    "\n",
    "        # Actualizar la mejor posicion global\n",
    "        if fitness < gbest_value:\n",
    "            gbest_value = fitness\n",
    "            gbest_position = particles[i].copy()\n",
    "\n",
    "    # Actualizar velocidades y posiciones\n",
    "    for i in range (num_particles):\n",
    "        r1 = random.random()\n",
    "        r2 = random.random()\n",
    "\n",
    "        velocities[i] = (w * velocities [i]\n",
    "                         + c1 * r1 * (pbest_position[i] - particles[i])\n",
    "                         + c2 * r2 * (gbest_position - particles[i]))\n",
    "        \n",
    "        particles[i] = particles[i] + velocities[i]\n",
    "\n",
    "        # Respteatar los limites de la busqueda\n",
    "        particles[i] = np.clip(particles[i], bounds[0], bounds[1])\n",
    "\n",
    "    history_position.append(particles.copy()) # Para graficar\n",
    "    print(f\"Iteracion {t+1} / {num_iteraciones}, Mejor valor global: {gbest_value}\")\n",
    "\n",
    "print(f\"Mejor posicion encontrada: {gbest_position}, con valor: {gbest_value} \")"
   ]
  }
 ],
 "metadata": {
  "kernelspec": {
   "display_name": "Python 3",
   "language": "python",
   "name": "python3"
  },
  "language_info": {
   "codemirror_mode": {
    "name": "ipython",
    "version": 3
   },
   "file_extension": ".py",
   "mimetype": "text/x-python",
   "name": "python",
   "nbconvert_exporter": "python",
   "pygments_lexer": "ipython3",
   "version": "3.12.1"
  }
 },
 "nbformat": 4,
 "nbformat_minor": 2
}
