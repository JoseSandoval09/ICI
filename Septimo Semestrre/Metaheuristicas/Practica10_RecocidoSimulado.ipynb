{
 "cells": [
  {
   "cell_type": "markdown",
   "metadata": {},
   "source": [
    "## UNIVERSIDAD AUTONOMA DE AGUASCALIENTES\n",
    "### Departamento: Centro de Ciencias Básicas \n",
    "### Jose Luis Sandoval Perez\n",
    "### Curso: Metaheurística I\n",
    "### Maestro: Francisco Javier Luna Rosas\n",
    "### 7mo Semestre\n",
    "\n",
    "##### Recocido simulado\n"
   ]
  },
  {
   "cell_type": "markdown",
   "metadata": {},
   "source": [
    "# PRACTICA No 10: Recocido Simulado\n",
    "\n",
    "### La busqueda local es una técnica utilizada para resolver problemas de optimización donde la solución óptima se byusac moviéndose iterativamente entre soluciones vecinas en el espacio de búsqueda\n",
    "\n",
    "### El Recocido Simulado es un algoritmo de optimización inspirado en el proceso de recocido en metalurgia, donde un material se calienta y luego se enfría lentamente para disminui sus efectos y alcanzar un estado mínimo de energía. En esta práctica implementaremos el algoritmo Recocido Simulado para buscar el óptimo globla de una función en 2D: f(x) = x^2 y la graficamos"
   ]
  },
  {
   "cell_type": "markdown",
   "metadata": {},
   "source": [
    "## Paso 1: Importar las librerías necesarias"
   ]
  },
  {
   "cell_type": "code",
   "execution_count": 12,
   "metadata": {},
   "outputs": [],
   "source": [
    "import math\n",
    "import random\n",
    "import matplotlib.pyplot as plt"
   ]
  },
  {
   "cell_type": "markdown",
   "metadata": {},
   "source": [
    "## Paso 2: Definir la función objetivo"
   ]
  },
  {
   "cell_type": "code",
   "execution_count": 13,
   "metadata": {},
   "outputs": [],
   "source": [
    "def obj_function(x):\n",
    "    return x**2"
   ]
  },
  {
   "cell_type": "markdown",
   "metadata": {},
   "source": [
    "## Paso 3: Función para generar la vecindad"
   ]
  },
  {
   "cell_type": "code",
   "execution_count": 14,
   "metadata": {},
   "outputs": [],
   "source": [
    "def neighbor_solution(x):\n",
    "    return x + random.uniform(-1, 1) # Genera un vecino aleatorio cerca de x"
   ]
  },
  {
   "cell_type": "markdown",
   "metadata": {},
   "source": [
    "## Paso 4: Función para implementar el algoritmo del Recocido Simulado"
   ]
  },
  {
   "cell_type": "code",
   "execution_count": 15,
   "metadata": {},
   "outputs": [],
   "source": [
    "def simulated_annealing(initial_solution, initial_temperature, alpha, iterations):\n",
    "    # Inicializamos la solucion actual y la mejor solucion\n",
    "    current_solution = initial_solution\n",
    "    best_solution = initial_solution\n",
    "    current_temperture = initial_temperature\n",
    "\n",
    "    solutions = []\n",
    "    costs = []\n",
    "\n",
    "    for i in range (iterations):\n",
    "        # Generamos un nuevo vecino\n",
    "        new_solution = neighbor_solution(current_solution)\n",
    "        # Calculamos el costo de la solucion actual y la nueva\n",
    "        current_cost = obj_function(current_solution)\n",
    "        new_cost = obj_function(new_solution)\n",
    "\n",
    "        # Si la nueva solucion es mejor, la aceptamos\n",
    "        if new_cost < current_cost:\n",
    "            current_solution = new_solution\n",
    "            # Actualizamos la mejor solucion encontrada\n",
    "            if new_cost < obj_function(best_solution):\n",
    "                best_solution = new_solution\n",
    "        else:\n",
    "            # Si la nueva solucion es peor, la aceptamos con cierta probabilidad\n",
    "            probability = math.exp((current_cost - new_cost) / current_temperture)\n",
    "            if random.random() < probability:\n",
    "                current_solution = new_solution\n",
    "\n",
    "        # Enfriamos la temperatura \n",
    "        current_temperture *= alpha\n",
    "\n",
    "        # Guardamos la solucion actual\n",
    "        solutions.append((current_solution))\n",
    "        costs.append(obj_function(current_solution))\n",
    "\n",
    "        # Imprimimos el progreso\n",
    "        print(f\"Iteracion: {i + 1}, Solucion actual: {current_solution:.4F}, Mejor Solucion: {best_solution:.4F}\")\n",
    "\n",
    "    return best_solution, solutions, costs"
   ]
  },
  {
   "cell_type": "markdown",
   "metadata": {},
   "source": [
    "## Paso 5: Definir parametros del algoritmo"
   ]
  },
  {
   "cell_type": "code",
   "execution_count": 16,
   "metadata": {},
   "outputs": [],
   "source": [
    "# Parametros del algoritmo\n",
    "initial_solution = 10 # Solucion inicial\n",
    "initial_temperature = 100 # Temperatura inicial\n",
    "alpha = 0.9 # Tasa de enfriamiento\n",
    "iterations = 100 # Numero de iteraciones"
   ]
  },
  {
   "cell_type": "markdown",
   "metadata": {},
   "source": [
    "## Paso 6: Ejecutar el algoritmo Recocido Simulado"
   ]
  },
  {
   "cell_type": "code",
   "execution_count": 17,
   "metadata": {},
   "outputs": [
    {
     "name": "stdout",
     "output_type": "stream",
     "text": [
      "Iteracion: 1, Solucion actual: 9.7626, Mejor Solucion: 9.7626\n",
      "Iteracion: 2, Solucion actual: 8.9294, Mejor Solucion: 8.9294\n",
      "Iteracion: 3, Solucion actual: 9.5895, Mejor Solucion: 8.9294\n",
      "Iteracion: 4, Solucion actual: 9.7471, Mejor Solucion: 8.9294\n",
      "Iteracion: 5, Solucion actual: 10.2951, Mejor Solucion: 8.9294\n",
      "Iteracion: 6, Solucion actual: 10.1095, Mejor Solucion: 8.9294\n",
      "Iteracion: 7, Solucion actual: 11.0720, Mejor Solucion: 8.9294\n",
      "Iteracion: 8, Solucion actual: 11.3528, Mejor Solucion: 8.9294\n",
      "Iteracion: 9, Solucion actual: 12.3120, Mejor Solucion: 8.9294\n",
      "Iteracion: 10, Solucion actual: 11.6930, Mejor Solucion: 8.9294\n",
      "Iteracion: 11, Solucion actual: 11.6930, Mejor Solucion: 8.9294\n",
      "Iteracion: 12, Solucion actual: 11.2599, Mejor Solucion: 8.9294\n",
      "Iteracion: 13, Solucion actual: 10.5640, Mejor Solucion: 8.9294\n",
      "Iteracion: 14, Solucion actual: 11.4236, Mejor Solucion: 8.9294\n",
      "Iteracion: 15, Solucion actual: 12.1282, Mejor Solucion: 8.9294\n",
      "Iteracion: 16, Solucion actual: 12.4763, Mejor Solucion: 8.9294\n",
      "Iteracion: 17, Solucion actual: 12.7937, Mejor Solucion: 8.9294\n",
      "Iteracion: 18, Solucion actual: 12.7937, Mejor Solucion: 8.9294\n",
      "Iteracion: 19, Solucion actual: 11.8514, Mejor Solucion: 8.9294\n",
      "Iteracion: 20, Solucion actual: 11.4303, Mejor Solucion: 8.9294\n",
      "Iteracion: 21, Solucion actual: 11.4303, Mejor Solucion: 8.9294\n",
      "Iteracion: 22, Solucion actual: 11.2035, Mejor Solucion: 8.9294\n",
      "Iteracion: 23, Solucion actual: 11.2035, Mejor Solucion: 8.9294\n",
      "Iteracion: 24, Solucion actual: 11.2035, Mejor Solucion: 8.9294\n",
      "Iteracion: 25, Solucion actual: 11.0357, Mejor Solucion: 8.9294\n",
      "Iteracion: 26, Solucion actual: 10.5185, Mejor Solucion: 8.9294\n",
      "Iteracion: 27, Solucion actual: 9.7643, Mejor Solucion: 8.9294\n",
      "Iteracion: 28, Solucion actual: 9.2730, Mejor Solucion: 8.9294\n",
      "Iteracion: 29, Solucion actual: 8.8167, Mejor Solucion: 8.8167\n",
      "Iteracion: 30, Solucion actual: 8.8167, Mejor Solucion: 8.8167\n",
      "Iteracion: 31, Solucion actual: 8.3904, Mejor Solucion: 8.3904\n",
      "Iteracion: 32, Solucion actual: 7.7793, Mejor Solucion: 7.7793\n",
      "Iteracion: 33, Solucion actual: 7.7793, Mejor Solucion: 7.7793\n",
      "Iteracion: 34, Solucion actual: 7.7793, Mejor Solucion: 7.7793\n",
      "Iteracion: 35, Solucion actual: 7.7793, Mejor Solucion: 7.7793\n",
      "Iteracion: 36, Solucion actual: 6.9940, Mejor Solucion: 6.9940\n",
      "Iteracion: 37, Solucion actual: 6.9493, Mejor Solucion: 6.9493\n",
      "Iteracion: 38, Solucion actual: 6.9493, Mejor Solucion: 6.9493\n",
      "Iteracion: 39, Solucion actual: 6.0374, Mejor Solucion: 6.0374\n",
      "Iteracion: 40, Solucion actual: 5.9974, Mejor Solucion: 5.9974\n",
      "Iteracion: 41, Solucion actual: 5.6046, Mejor Solucion: 5.6046\n",
      "Iteracion: 42, Solucion actual: 5.6046, Mejor Solucion: 5.6046\n",
      "Iteracion: 43, Solucion actual: 5.6046, Mejor Solucion: 5.6046\n",
      "Iteracion: 44, Solucion actual: 5.6046, Mejor Solucion: 5.6046\n",
      "Iteracion: 45, Solucion actual: 4.6470, Mejor Solucion: 4.6470\n",
      "Iteracion: 46, Solucion actual: 4.6470, Mejor Solucion: 4.6470\n",
      "Iteracion: 47, Solucion actual: 4.6470, Mejor Solucion: 4.6470\n",
      "Iteracion: 48, Solucion actual: 4.6470, Mejor Solucion: 4.6470\n",
      "Iteracion: 49, Solucion actual: 4.6470, Mejor Solucion: 4.6470\n",
      "Iteracion: 50, Solucion actual: 4.6093, Mejor Solucion: 4.6093\n",
      "Iteracion: 51, Solucion actual: 4.3995, Mejor Solucion: 4.3995\n",
      "Iteracion: 52, Solucion actual: 4.3281, Mejor Solucion: 4.3281\n",
      "Iteracion: 53, Solucion actual: 4.3281, Mejor Solucion: 4.3281\n",
      "Iteracion: 54, Solucion actual: 3.5957, Mejor Solucion: 3.5957\n",
      "Iteracion: 55, Solucion actual: 3.0983, Mejor Solucion: 3.0983\n",
      "Iteracion: 56, Solucion actual: 2.9227, Mejor Solucion: 2.9227\n",
      "Iteracion: 57, Solucion actual: 2.2156, Mejor Solucion: 2.2156\n",
      "Iteracion: 58, Solucion actual: 2.2156, Mejor Solucion: 2.2156\n",
      "Iteracion: 59, Solucion actual: 1.4203, Mejor Solucion: 1.4203\n",
      "Iteracion: 60, Solucion actual: 1.4203, Mejor Solucion: 1.4203\n",
      "Iteracion: 61, Solucion actual: 1.1867, Mejor Solucion: 1.1867\n",
      "Iteracion: 62, Solucion actual: 0.5655, Mejor Solucion: 0.5655\n",
      "Iteracion: 63, Solucion actual: 0.5655, Mejor Solucion: 0.5655\n",
      "Iteracion: 64, Solucion actual: 0.2241, Mejor Solucion: 0.2241\n",
      "Iteracion: 65, Solucion actual: -0.1606, Mejor Solucion: -0.1606\n",
      "Iteracion: 66, Solucion actual: -0.0622, Mejor Solucion: -0.0622\n",
      "Iteracion: 67, Solucion actual: -0.0622, Mejor Solucion: -0.0622\n",
      "Iteracion: 68, Solucion actual: -0.0622, Mejor Solucion: -0.0622\n",
      "Iteracion: 69, Solucion actual: -0.0622, Mejor Solucion: -0.0622\n",
      "Iteracion: 70, Solucion actual: -0.0622, Mejor Solucion: -0.0622\n",
      "Iteracion: 71, Solucion actual: -0.0622, Mejor Solucion: -0.0622\n",
      "Iteracion: 72, Solucion actual: -0.0635, Mejor Solucion: -0.0622\n",
      "Iteracion: 73, Solucion actual: -0.0635, Mejor Solucion: -0.0622\n",
      "Iteracion: 74, Solucion actual: -0.0635, Mejor Solucion: -0.0622\n",
      "Iteracion: 75, Solucion actual: -0.0635, Mejor Solucion: -0.0622\n",
      "Iteracion: 76, Solucion actual: 0.2312, Mejor Solucion: -0.0622\n",
      "Iteracion: 77, Solucion actual: 0.2312, Mejor Solucion: -0.0622\n",
      "Iteracion: 78, Solucion actual: 0.2312, Mejor Solucion: -0.0622\n",
      "Iteracion: 79, Solucion actual: 0.2312, Mejor Solucion: -0.0622\n",
      "Iteracion: 80, Solucion actual: 0.2312, Mejor Solucion: -0.0622\n",
      "Iteracion: 81, Solucion actual: -0.2597, Mejor Solucion: -0.0622\n",
      "Iteracion: 82, Solucion actual: -0.2597, Mejor Solucion: -0.0622\n",
      "Iteracion: 83, Solucion actual: -0.2597, Mejor Solucion: -0.0622\n",
      "Iteracion: 84, Solucion actual: -0.2597, Mejor Solucion: -0.0622\n",
      "Iteracion: 85, Solucion actual: -0.0298, Mejor Solucion: -0.0298\n",
      "Iteracion: 86, Solucion actual: -0.0298, Mejor Solucion: -0.0298\n",
      "Iteracion: 87, Solucion actual: -0.0298, Mejor Solucion: -0.0298\n",
      "Iteracion: 88, Solucion actual: -0.0298, Mejor Solucion: -0.0298\n",
      "Iteracion: 89, Solucion actual: -0.0298, Mejor Solucion: -0.0298\n",
      "Iteracion: 90, Solucion actual: -0.0298, Mejor Solucion: -0.0298\n",
      "Iteracion: 91, Solucion actual: -0.0298, Mejor Solucion: -0.0298\n",
      "Iteracion: 92, Solucion actual: -0.0298, Mejor Solucion: -0.0298\n",
      "Iteracion: 93, Solucion actual: -0.0607, Mejor Solucion: -0.0298\n",
      "Iteracion: 94, Solucion actual: -0.0607, Mejor Solucion: -0.0298\n",
      "Iteracion: 95, Solucion actual: -0.0607, Mejor Solucion: -0.0298\n",
      "Iteracion: 96, Solucion actual: -0.0607, Mejor Solucion: -0.0298\n",
      "Iteracion: 97, Solucion actual: -0.0607, Mejor Solucion: -0.0298\n",
      "Iteracion: 98, Solucion actual: -0.0607, Mejor Solucion: -0.0298\n",
      "Iteracion: 99, Solucion actual: -0.0607, Mejor Solucion: -0.0298\n",
      "Iteracion: 100, Solucion actual: -0.0607, Mejor Solucion: -0.0298\n",
      "Mejor solucion encontrada: -0.0298\n"
     ]
    }
   ],
   "source": [
    "best, solutions, costs = simulated_annealing(initial_solution, initial_temperature, alpha, iterations)\n",
    "print(f\"Mejor solucion encontrada: {best:.4F}\")"
   ]
  },
  {
   "cell_type": "markdown",
   "metadata": {},
   "source": [
    "## Paso 7: Graficar la funcion del algoritmo"
   ]
  },
  {
   "cell_type": "code",
   "execution_count": 18,
   "metadata": {},
   "outputs": [
    {
     "name": "stderr",
     "output_type": "stream",
     "text": [
      "/tmp/ipykernel_10566/2991650230.py:7: UserWarning: No artists with labels found to put in legend.  Note that artists whose label start with an underscore are ignored when legend() is called with no argument.\n",
      "  plt.legend()\n"
     ]
    },
    {
     "data": {
      "image/png": "[encoded data removed]",
      "text/plain": [
       "<Figure size 1000x500 with 1 Axes>"
      ]
     },
     "metadata": {},
     "output_type": "display_data"
    }
   ],
   "source": [
    "# Graficar la funcion\n",
    "plt.figure(figsize=(10,5))\n",
    "plt.plot(solutions, costs, marker='o')\n",
    "plt.title(\"Progreso del recocido simulado\")\n",
    "plt.xlabel(\"Solucion\")\n",
    "plt.ylabel(\"Costo f(x)\")\n",
    "plt.legend()\n",
    "plt.grid(True)\n",
    "plt.show()"
   ]
  },
  {
   "cell_type": "markdown",
   "metadata": {},
   "source": [
    "## Conclusiones"
   ]
  },
  {
   "cell_type": "markdown",
   "metadata": {},
   "source": [
    "### En esta practica implementamos el algoritmo del Recocido Simulado para buscar el optimo global de una funcion en 2D: f(x) = x**2 y la graficamos"
   ]
  },
  {
   "cell_type": "markdown",
   "metadata": {},
   "source": [
    "# Referencias"
   ]
  },
  {
   "cell_type": "markdown",
   "metadata": {},
   "source": [
    "### Taibi, El-Ghazali (200) \"Metaheurístics from design implementation\" John Wiley & Sons, Inc: 2009 ISBN "
   ]
  }
 ],
 "metadata": {
  "kernelspec": {
   "display_name": "Python 3",
   "language": "python",
   "name": "python3"
  },
  "language_info": {
   "codemirror_mode": {
    "name": "ipython",
    "version": 3
   },
   "file_extension": ".py",
   "mimetype": "text/x-python",
   "name": "python",
   "nbconvert_exporter": "python",
   "pygments_lexer": "ipython3",
   "version": "3.12.3"
  }
 },
 "nbformat": 4,
 "nbformat_minor": 2
}
